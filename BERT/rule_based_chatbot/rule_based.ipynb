{
 "cells": [
  {
   "cell_type": "code",
   "execution_count": 1,
   "metadata": {},
   "outputs": [],
   "source": [
    "# Importing modules\n",
    "import re\n",
    "from nltk.corpus import wordnet"
   ]
  },
  {
   "cell_type": "code",
   "execution_count": 3,
   "metadata": {},
   "outputs": [
    {
     "name": "stdout",
     "output_type": "stream",
     "text": [
      "{'hello': {'howdy', 'hullo', 'hi', 'hello', 'how do you do'}, 'timings': {'timing', 'time', 'clock'}, 'snake plant': set()}\n"
     ]
    }
   ],
   "source": [
    "# Building a list of Keywords\n",
    "list_words=['hello','timings', 'snake plant']\n",
    "list_syn={}\n",
    "for word in list_words:\n",
    "    synonyms=[]\n",
    "    for syn in wordnet.synsets(word):\n",
    "        for lem in syn.lemmas():\n",
    "            # Remove any special characters from synonym strings\n",
    "            lem_name = re.sub('[^a-zA-Z0-9 \\n\\.]', ' ', lem.name())\n",
    "            synonyms.append(lem_name)\n",
    "    list_syn[word]=set(synonyms)\n",
    "print (list_syn)"
   ]
  },
  {
   "cell_type": "code",
   "execution_count": 4,
   "metadata": {},
   "outputs": [
    {
     "name": "stdout",
     "output_type": "stream",
     "text": [
      "{'greet': re.compile('.*\\\\bhowdy\\\\b.*|.*\\\\bhullo\\\\b.*|.*\\\\bhi\\\\b.*|.*\\\\bhello\\\\b.*|.*\\\\bhow do you do\\\\b.*'), 'timings': re.compile('.*\\\\btiming\\\\b.*|.*\\\\btime\\\\b.*|.*\\\\bclock\\\\b.*')}\n"
     ]
    }
   ],
   "source": [
    "# Building dictionary of Intents & Keywords\n",
    "keywords={}\n",
    "keywords_dict={}\n",
    "# Defining a new key in the keywords dictionary\n",
    "keywords['greet']=[]\n",
    "# Populating the values in the keywords dictionary with synonyms of keywords formatted with RegEx metacharacters \n",
    "for synonym in list(list_syn['hello']):\n",
    "    keywords['greet'].append('.*\\\\b'+synonym+'\\\\b.*')\n",
    "\n",
    "# Defining a new key in the keywords dictionary\n",
    "keywords['timings']=[]\n",
    "# Populating the values in the keywords dictionary with synonyms of keywords formatted with RegEx metacharacters \n",
    "for synonym in list(list_syn['timings']):\n",
    "    keywords['timings'].append('.*\\\\b'+synonym+'\\\\b.*')\n",
    "for intent, keys in keywords.items():\n",
    "    # Joining the values in the keywords dictionary with the OR (|) operator updating them in keywords_dict dictionary\n",
    "    keywords_dict[intent]=re.compile('|'.join(keys))\n",
    "print (keywords_dict)"
   ]
  },
  {
   "cell_type": "code",
   "execution_count": 5,
   "metadata": {},
   "outputs": [],
   "source": [
    "# Building a dictionary of responses\n",
    "responses={\n",
    "    'greet':'Hello! How can I help you?',\n",
    "    'timings':'We are open from 9AM to 5PM, Monday to Friday. We are closed on weekends and public holidays.',\n",
    "    'fallback':'I dont quite understand. Could you repeat that?',\n",
    "}"
   ]
  },
  {
   "cell_type": "code",
   "execution_count": 7,
   "metadata": {},
   "outputs": [
    {
     "name": "stdout",
     "output_type": "stream",
     "text": [
      "Welcome to MyBank. How may I help you?\n"
     ]
    },
    {
     "name": "stdout",
     "output_type": "stream",
     "text": [
      "We are open from 9AM to 5PM, Monday to Friday. We are closed on weekends and public holidays.\n",
      "Thank you for visiting.\n"
     ]
    }
   ],
   "source": [
    "print (\"Welcome to PlantPal. How may I help you?\")\n",
    "# While loop to run the chatbot indefinetely\n",
    "while (True):  \n",
    "    # Takes the user input and converts all characters to lowercase\n",
    "    user_input = input().lower()\n",
    "    # Defining the Chatbot's exit condition\n",
    "    if user_input == 'quit': \n",
    "        print (\"Thank you for visiting.\")\n",
    "        break    \n",
    "    matched_intent = None \n",
    "    for intent,pattern in keywords_dict.items():\n",
    "        # Using the regular expression search function to look for keywords in user input\n",
    "        if re.search(pattern, user_input): \n",
    "            # if a keyword matches, select the corresponding intent from the keywords_dict dictionary\n",
    "            matched_intent=intent  \n",
    "    # The fallback intent is selected by default\n",
    "    key='fallback' \n",
    "    if matched_intent in responses:\n",
    "        # If a keyword matches, the fallback intent is replaced by the matched intent as the key for the responses dictionary\n",
    "        key = matched_intent\n",
    "    # The chatbot prints the response that matches the selected intent\n",
    "    print (responses[key]) "
   ]
  }
 ],
 "metadata": {
  "kernelspec": {
   "display_name": "Python 3",
   "language": "python",
   "name": "python3"
  },
  "language_info": {
   "codemirror_mode": {
    "name": "ipython",
    "version": 3
   },
   "file_extension": ".py",
   "mimetype": "text/x-python",
   "name": "python",
   "nbconvert_exporter": "python",
   "pygments_lexer": "ipython3",
   "version": "3.9.0"
  },
  "orig_nbformat": 4
 },
 "nbformat": 4,
 "nbformat_minor": 2
}
