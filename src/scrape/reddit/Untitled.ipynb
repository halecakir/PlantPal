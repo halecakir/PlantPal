{
 "cells": [
  {
   "cell_type": "code",
   "execution_count": 7,
   "id": "faea6c9d-4445-44c7-9e76-8a46e1d0a2b1",
   "metadata": {},
   "outputs": [],
   "source": [
    "import pandas as pd\n",
    "from pathlib import Path"
   ]
  },
  {
   "cell_type": "code",
   "execution_count": 2,
   "id": "375e9c48-b8b7-4d70-88e9-105c0678586c",
   "metadata": {},
   "outputs": [],
   "source": [
    "pd.set_option('display.max_columns', None)\n",
    "pd.set_option('display.max_rows', 5)\n",
    "pd.set_option('display.max_colwidth', None)"
   ]
  },
  {
   "cell_type": "code",
   "execution_count": 3,
   "id": "7c97b131-a10c-40e0-9e93-8eb5076b644c",
   "metadata": {},
   "outputs": [],
   "source": [
    "DATA_DIR = \"../../../data/reddit\"\n",
    "SUBREDDIT = \"plantclinic\"\n",
    "SIZE = 10000\n",
    "COMMENTS = Path(DATA_DIR) / f\"{SUBREDDIT}_comments\"\n",
    "SUBMISSIONS = Path(DATA_DIR) / f\"{SUBREDDIT}_submissions\"\n",
    "REDUCED_COMMENTS = COMMENTS.with_suffix(f'.l{SIZE}')\n",
    "REDUCED_SUBMISSIONS = SUBMISSIONS.with_suffix(f'.l{SIZE}')"
   ]
  },
  {
   "cell_type": "code",
   "execution_count": 4,
   "id": "4c1c6e45-ee49-43ea-baef-372f4c4bd701",
   "metadata": {},
   "outputs": [],
   "source": [
    "assert COMMENTS.exists()\n",
    "assert SUBMISSIONS.exists()"
   ]
  },
  {
   "cell_type": "code",
   "execution_count": 5,
   "id": "c6714d38-760c-4d4d-81f1-342a2d3cefb6",
   "metadata": {},
   "outputs": [],
   "source": [
    "! head -{SIZE} {SUBMISSIONS} > {REDUCED_SUBMISSIONS}\n",
    "! head -{SIZE} {COMMENTS} > {REDUCED_COMMENTS}"
   ]
  },
  {
   "cell_type": "code",
   "execution_count": 6,
   "id": "8c987be6-4448-4457-b0d0-50862ac9a2d2",
   "metadata": {},
   "outputs": [],
   "source": [
    "df_comments = pd.read_json(REDUCED_COMMENTS, orient='records',lines=True)\n",
    "df_submissions = pd.read_json(REDUCED_SUBMISSIONS, orient='records',lines=True)"
   ]
  },
  {
   "cell_type": "code",
   "execution_count": 63,
   "id": "bc5407a9-184e-4d4f-bddb-82d35576031d",
   "metadata": {},
   "outputs": [
    {
     "data": {
      "text/html": [
       "<div>\n",
       "<style scoped>\n",
       "    .dataframe tbody tr th:only-of-type {\n",
       "        vertical-align: middle;\n",
       "    }\n",
       "\n",
       "    .dataframe tbody tr th {\n",
       "        vertical-align: top;\n",
       "    }\n",
       "\n",
       "    .dataframe thead th {\n",
       "        text-align: right;\n",
       "    }\n",
       "</style>\n",
       "<table border=\"1\" class=\"dataframe\">\n",
       "  <thead>\n",
       "    <tr style=\"text-align: right;\">\n",
       "      <th></th>\n",
       "      <th>id</th>\n",
       "      <th>title</th>\n",
       "    </tr>\n",
       "  </thead>\n",
       "  <tbody>\n",
       "    <tr>\n",
       "      <th>8167</th>\n",
       "      <td>t3_bcmfhr</td>\n",
       "      <td>A rescue mission! This guy was forgotten about last season in a local store. I’ve read they don’t mind being a little root bound, but he’s burst through his pot. Would it be best to separate him into several different pots, or replant him together in a larger pot?</td>\n",
       "    </tr>\n",
       "    <tr>\n",
       "      <th>8622</th>\n",
       "      <td>t3_bf23j5</td>\n",
       "      <td>Recently bought this fiddle leaf fig! How long will it take for the leaves to start spreading out and lying more flat? Is there something I should do?</td>\n",
       "    </tr>\n",
       "    <tr>\n",
       "      <th>...</th>\n",
       "      <td>...</td>\n",
       "      <td>...</td>\n",
       "    </tr>\n",
       "    <tr>\n",
       "      <th>7601</th>\n",
       "      <td>t3_b8t52c</td>\n",
       "      <td>My orchid seemed to be doing ok until a week ago, almost all of the flowers fell off and the stem is changing color. Does anyone know what could be going on?</td>\n",
       "    </tr>\n",
       "    <tr>\n",
       "      <th>4986</th>\n",
       "      <td>t3_a860yn</td>\n",
       "      <td>What's going on with my baby? Under watering? Over? Heat stress? Or is it a normal part of its cycle?</td>\n",
       "    </tr>\n",
       "  </tbody>\n",
       "</table>\n",
       "<p>974 rows × 2 columns</p>\n",
       "</div>"
      ],
      "text/plain": [
       "             id  \\\n",
       "8167  t3_bcmfhr   \n",
       "8622  t3_bf23j5   \n",
       "...         ...   \n",
       "7601  t3_b8t52c   \n",
       "4986  t3_a860yn   \n",
       "\n",
       "                                                                                                                                                                                                                                                                         title  \n",
       "8167  A rescue mission! This guy was forgotten about last season in a local store. I’ve read they don’t mind being a little root bound, but he’s burst through his pot. Would it be best to separate him into several different pots, or replant him together in a larger pot?  \n",
       "8622                                                                                                                    Recently bought this fiddle leaf fig! How long will it take for the leaves to start spreading out and lying more flat? Is there something I should do?  \n",
       "...                                                                                                                                                                                                                                                                        ...  \n",
       "7601                                                                                                             My orchid seemed to be doing ok until a week ago, almost all of the flowers fell off and the stem is changing color. Does anyone know what could be going on?  \n",
       "4986                                                                                                                                                                     What's going on with my baby? Under watering? Over? Heat stress? Or is it a normal part of its cycle?  \n",
       "\n",
       "[974 rows x 2 columns]"
      ]
     },
     "execution_count": 63,
     "metadata": {},
     "output_type": "execute_result"
    }
   ],
   "source": [
    "df_s = df_submissions\n",
    "df_s = df_s[(df_s[\"num_comments\"] > 0) & (df_s[\"title\"].str.len() > 100)].sort_values(by=['score'], ascending=False)\n",
    "df_s = df_s[[\"id\", \"title\"]]\n",
    "df_s[\"id\"] = \"t3_\" + df_s[\"id\"]\n",
    "df_s = df_s[df_s['title'].str.endswith(\"?\")]\n",
    "df_s"
   ]
  },
  {
   "cell_type": "code",
   "execution_count": 64,
   "id": "0df21466-3317-4f2e-b19c-19b8f12c14f7",
   "metadata": {},
   "outputs": [],
   "source": [
    "link_ids = set(df_comments[df_comments[\"link_id\"].isin(df_s[\"id\"])][\"link_id\"])"
   ]
  },
  {
   "cell_type": "code",
   "execution_count": 65,
   "id": "a8ba593e-7472-46ea-b9b2-a0d84d1013fc",
   "metadata": {},
   "outputs": [],
   "source": [
    "df_c = df_comments\n",
    "df_s[\"comment\"] = \"\"\n",
    "for l_id in link_ids:\n",
    "    filtered = df_c[(df_c[\"link_id\"] == l_id) & (df_c[\"parent_id\"] == l_id)].sort_values(by=['score'], ascending=False)\n",
    "    if filtered.shape[0] > 0:\n",
    "        most_upvoted_comment = filtered.iloc[0][\"body\"]\n",
    "        df_s.loc[df_s.id == l_id, \"comment\"] = most_upvoted_comment\n"
   ]
  },
  {
   "cell_type": "code",
   "execution_count": 66,
   "id": "178d2780-9432-4a3d-b415-53298e984018",
   "metadata": {},
   "outputs": [],
   "source": [
    "df_s_final = df_s[df_s[\"comment\"].str.len() > 0]"
   ]
  },
  {
   "cell_type": "code",
   "execution_count": 67,
   "id": "97b5f136-c9b2-49a7-b949-a6013c594a08",
   "metadata": {},
   "outputs": [],
   "source": [
    "df_s_final.to_csv(\"test.csv\")"
   ]
  },
  {
   "cell_type": "code",
   "execution_count": 55,
   "id": "eb7be4f1-be60-49eb-93cc-fbf75da25f34",
   "metadata": {},
   "outputs": [
    {
     "ename": "IndexError",
     "evalue": "single positional indexer is out-of-bounds",
     "output_type": "error",
     "traceback": [
      "\u001b[0;31m---------------------------------------------------------------------------\u001b[0m",
      "\u001b[0;31mIndexError\u001b[0m                                Traceback (most recent call last)",
      "Cell \u001b[0;32mIn[55], line 3\u001b[0m\n\u001b[1;32m      1\u001b[0m df_c \u001b[38;5;241m=\u001b[39m df_comments\n\u001b[1;32m      2\u001b[0m df_c \u001b[38;5;241m=\u001b[39m df_c[(df_c[\u001b[38;5;124m\"\u001b[39m\u001b[38;5;124mlink_id\u001b[39m\u001b[38;5;124m\"\u001b[39m] \u001b[38;5;241m==\u001b[39m \u001b[38;5;124m\"\u001b[39m\u001b[38;5;124mt3_bh5ioh\u001b[39m\u001b[38;5;124m\"\u001b[39m) \u001b[38;5;241m&\u001b[39m (df_c[\u001b[38;5;124m\"\u001b[39m\u001b[38;5;124mparent_id\u001b[39m\u001b[38;5;124m\"\u001b[39m] \u001b[38;5;241m==\u001b[39m \u001b[38;5;124m\"\u001b[39m\u001b[38;5;124mt3_bh5ioh\u001b[39m\u001b[38;5;124m\"\u001b[39m)]\u001b[38;5;241m.\u001b[39msort_values(by\u001b[38;5;241m=\u001b[39m[\u001b[38;5;124m'\u001b[39m\u001b[38;5;124mscore\u001b[39m\u001b[38;5;124m'\u001b[39m], ascending\u001b[38;5;241m=\u001b[39m\u001b[38;5;28;01mFalse\u001b[39;00m)\n\u001b[0;32m----> 3\u001b[0m \u001b[43mdf_c\u001b[49m\u001b[38;5;241;43m.\u001b[39;49m\u001b[43miloc\u001b[49m\u001b[43m[\u001b[49m\u001b[38;5;241;43m0\u001b[39;49m\u001b[43m]\u001b[49m[\u001b[38;5;124m\"\u001b[39m\u001b[38;5;124mbody\u001b[39m\u001b[38;5;124m\"\u001b[39m]\n",
      "File \u001b[0;32m~/anaconda3/lib/python3.10/site-packages/pandas/core/indexing.py:1073\u001b[0m, in \u001b[0;36m_LocationIndexer.__getitem__\u001b[0;34m(self, key)\u001b[0m\n\u001b[1;32m   1070\u001b[0m axis \u001b[38;5;241m=\u001b[39m \u001b[38;5;28mself\u001b[39m\u001b[38;5;241m.\u001b[39maxis \u001b[38;5;129;01mor\u001b[39;00m \u001b[38;5;241m0\u001b[39m\n\u001b[1;32m   1072\u001b[0m maybe_callable \u001b[38;5;241m=\u001b[39m com\u001b[38;5;241m.\u001b[39mapply_if_callable(key, \u001b[38;5;28mself\u001b[39m\u001b[38;5;241m.\u001b[39mobj)\n\u001b[0;32m-> 1073\u001b[0m \u001b[38;5;28;01mreturn\u001b[39;00m \u001b[38;5;28;43mself\u001b[39;49m\u001b[38;5;241;43m.\u001b[39;49m\u001b[43m_getitem_axis\u001b[49m\u001b[43m(\u001b[49m\u001b[43mmaybe_callable\u001b[49m\u001b[43m,\u001b[49m\u001b[43m \u001b[49m\u001b[43maxis\u001b[49m\u001b[38;5;241;43m=\u001b[39;49m\u001b[43maxis\u001b[49m\u001b[43m)\u001b[49m\n",
      "File \u001b[0;32m~/anaconda3/lib/python3.10/site-packages/pandas/core/indexing.py:1625\u001b[0m, in \u001b[0;36m_iLocIndexer._getitem_axis\u001b[0;34m(self, key, axis)\u001b[0m\n\u001b[1;32m   1622\u001b[0m     \u001b[38;5;28;01mraise\u001b[39;00m \u001b[38;5;167;01mTypeError\u001b[39;00m(\u001b[38;5;124m\"\u001b[39m\u001b[38;5;124mCannot index by location index with a non-integer key\u001b[39m\u001b[38;5;124m\"\u001b[39m)\n\u001b[1;32m   1624\u001b[0m \u001b[38;5;66;03m# validate the location\u001b[39;00m\n\u001b[0;32m-> 1625\u001b[0m \u001b[38;5;28;43mself\u001b[39;49m\u001b[38;5;241;43m.\u001b[39;49m\u001b[43m_validate_integer\u001b[49m\u001b[43m(\u001b[49m\u001b[43mkey\u001b[49m\u001b[43m,\u001b[49m\u001b[43m \u001b[49m\u001b[43maxis\u001b[49m\u001b[43m)\u001b[49m\n\u001b[1;32m   1627\u001b[0m \u001b[38;5;28;01mreturn\u001b[39;00m \u001b[38;5;28mself\u001b[39m\u001b[38;5;241m.\u001b[39mobj\u001b[38;5;241m.\u001b[39m_ixs(key, axis\u001b[38;5;241m=\u001b[39maxis)\n",
      "File \u001b[0;32m~/anaconda3/lib/python3.10/site-packages/pandas/core/indexing.py:1557\u001b[0m, in \u001b[0;36m_iLocIndexer._validate_integer\u001b[0;34m(self, key, axis)\u001b[0m\n\u001b[1;32m   1555\u001b[0m len_axis \u001b[38;5;241m=\u001b[39m \u001b[38;5;28mlen\u001b[39m(\u001b[38;5;28mself\u001b[39m\u001b[38;5;241m.\u001b[39mobj\u001b[38;5;241m.\u001b[39m_get_axis(axis))\n\u001b[1;32m   1556\u001b[0m \u001b[38;5;28;01mif\u001b[39;00m key \u001b[38;5;241m>\u001b[39m\u001b[38;5;241m=\u001b[39m len_axis \u001b[38;5;129;01mor\u001b[39;00m key \u001b[38;5;241m<\u001b[39m \u001b[38;5;241m-\u001b[39mlen_axis:\n\u001b[0;32m-> 1557\u001b[0m     \u001b[38;5;28;01mraise\u001b[39;00m \u001b[38;5;167;01mIndexError\u001b[39;00m(\u001b[38;5;124m\"\u001b[39m\u001b[38;5;124msingle positional indexer is out-of-bounds\u001b[39m\u001b[38;5;124m\"\u001b[39m)\n",
      "\u001b[0;31mIndexError\u001b[0m: single positional indexer is out-of-bounds"
     ]
    }
   ],
   "source": [
    "df_c = df_comments\n",
    "df_c = df_c[(df_c[\"link_id\"] == \"t3_bh5ioh\") & (df_c[\"parent_id\"] == \"t3_bh5ioh\")].sort_values(by=['score'], ascending=False)\n",
    "df_c.iloc[0][\"body\"]"
   ]
  },
  {
   "cell_type": "code",
   "execution_count": null,
   "id": "36427c95-32e1-4fb1-b89e-01eb2b910cee",
   "metadata": {},
   "outputs": [],
   "source": [
    "df_s = df_submissions\n",
    "df_s = df_s[(df_s[\"num_comments\"] > 0) & (df_s[\"title\"].str.len() > 10)].sort_values(by=['score'], ascending=False)\n",
    "df_s = df_s[[\"title\", \"selftext\"]]\n",
    "pd.set_option('display.max_rows', 30)\n",
    "#df_c.iloc[0][\"selftext\"]\n",
    "# title\n",
    "df_s[df_s['title'].str.endswith(\"?\")].head(100)"
   ]
  }
 ],
 "metadata": {
  "kernelspec": {
   "display_name": "Python 3 (ipykernel)",
   "language": "python",
   "name": "python3"
  },
  "language_info": {
   "codemirror_mode": {
    "name": "ipython",
    "version": 3
   },
   "file_extension": ".py",
   "mimetype": "text/x-python",
   "name": "python",
   "nbconvert_exporter": "python",
   "pygments_lexer": "ipython3",
   "version": "3.10.9"
  }
 },
 "nbformat": 4,
 "nbformat_minor": 5
}
