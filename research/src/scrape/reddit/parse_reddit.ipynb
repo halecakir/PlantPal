{
 "cells": [
  {
   "cell_type": "code",
   "execution_count": 2,
   "id": "faea6c9d-4445-44c7-9e76-8a46e1d0a2b1",
   "metadata": {},
   "outputs": [],
   "source": [
    "import pandas as pd\n",
    "from pathlib import Path"
   ]
  },
  {
   "cell_type": "code",
   "execution_count": 3,
   "id": "375e9c48-b8b7-4d70-88e9-105c0678586c",
   "metadata": {},
   "outputs": [],
   "source": [
    "pd.set_option(\"display.max_columns\", None)\n",
    "pd.set_option(\"display.max_rows\", 5)\n",
    "pd.set_option(\"display.max_colwidth\", None)"
   ]
  },
  {
   "cell_type": "code",
   "execution_count": 4,
   "id": "7c97b131-a10c-40e0-9e93-8eb5076b644c",
   "metadata": {},
   "outputs": [],
   "source": [
    "DATA_DIR = \"../../../data/reddit\"\n",
    "SUBREDDIT = \"plantclinic\"\n",
    "SIZE = 1000000000\n",
    "COMMENTS = Path(DATA_DIR) / f\"{SUBREDDIT}_comments\"\n",
    "SUBMISSIONS = Path(DATA_DIR) / f\"{SUBREDDIT}_submissions\"\n",
    "REDUCED_COMMENTS = COMMENTS.with_suffix(f\".l{SIZE}\")\n",
    "REDUCED_SUBMISSIONS = SUBMISSIONS.with_suffix(f\".l{SIZE}\")"
   ]
  },
  {
   "cell_type": "code",
   "execution_count": 5,
   "id": "4c1c6e45-ee49-43ea-baef-372f4c4bd701",
   "metadata": {},
   "outputs": [],
   "source": [
    "assert COMMENTS.exists()\n",
    "assert SUBMISSIONS.exists()"
   ]
  },
  {
   "cell_type": "code",
   "execution_count": null,
   "id": "c6714d38-760c-4d4d-81f1-342a2d3cefb6",
   "metadata": {},
   "outputs": [],
   "source": [
    "! head -{SIZE} {SUBMISSIONS} > {REDUCED_SUBMISSIONS}\n",
    "! head -{SIZE} {COMMENTS} > {REDUCED_COMMENTS}"
   ]
  },
  {
   "cell_type": "code",
   "execution_count": 6,
   "id": "8c987be6-4448-4457-b0d0-50862ac9a2d2",
   "metadata": {},
   "outputs": [],
   "source": [
    "df_comments = pd.read_json(REDUCED_COMMENTS, orient=\"records\", lines=True)\n",
    "df_submissions = pd.read_json(REDUCED_SUBMISSIONS, orient=\"records\", lines=True)"
   ]
  },
  {
   "cell_type": "code",
   "execution_count": 7,
   "id": "c4cc6bf2",
   "metadata": {},
   "outputs": [
    {
     "data": {
      "text/plain": [
       "(8864, 2)"
      ]
     },
     "execution_count": 7,
     "metadata": {},
     "output_type": "execute_result"
    }
   ],
   "source": [
    "df_s = df_submissions.copy()\n",
    "df_s = df_s[\n",
    "    (df_s[\"num_comments\"] > 5)\n",
    "    & (df_s[\"title\"].str.endswith(\"?\"))\n",
    "    & (df_s[\"title\"].str.len() > 100)\n",
    "    & (df_s[\"title\"].str.len() < 1000)\n",
    "].sort_values(by=[\"score\"], ascending=False)\n",
    "df_s = df_s[[\"id\", \"title\"]]\n",
    "df_s[\"id\"] = \"t3_\" + df_s[\"id\"]\n",
    "df_s.shape"
   ]
  },
  {
   "cell_type": "code",
   "execution_count": 8,
   "id": "0df21466-3317-4f2e-b19c-19b8f12c14f7",
   "metadata": {},
   "outputs": [],
   "source": [
    "link_ids = set(df_comments[df_comments[\"link_id\"].isin(df_s[\"id\"])][\"link_id\"])"
   ]
  },
  {
   "cell_type": "code",
   "execution_count": 10,
   "id": "e6d311a7",
   "metadata": {},
   "outputs": [],
   "source": [
    "from concurrent.futures import ProcessPoolExecutor\n",
    "from tqdm import tqdm\n",
    "\n",
    "df_c = df_comments.copy()\n",
    "\n",
    "def process_link_id(l_id):\n",
    "    filtered = df_c[\n",
    "        (df_c[\"link_id\"] == l_id) & (df_c[\"parent_id\"] == l_id)\n",
    "    ].sort_values(by=[\"score\"], ascending=False)\n",
    "    if filtered.shape[0] > 0:\n",
    "        most_upvoted_comment = filtered.iloc[0][\"body\"]\n",
    "        return l_id, most_upvoted_comment\n",
    "    return None\n",
    "\n",
    "# Use a ProcessPoolExecutor to parallelize the loop\n",
    "with ProcessPoolExecutor(max_workers=30) as executor:\n",
    "    results = list(executor.map(process_link_id, link_ids))\n",
    "\n",
    "# Filter out None values from the results\n",
    "results = [result for result in results if result is not None]\n"
   ]
  },
  {
   "cell_type": "code",
   "execution_count": 11,
   "id": "33917b5b",
   "metadata": {},
   "outputs": [
    {
     "name": "stderr",
     "output_type": "stream",
     "text": [
      "/tmp/ipykernel_23107/1708564566.py:2: FutureWarning: Setting an item of incompatible dtype is deprecated and will raise in a future error of pandas. Value 'How cold was it. If it was in the thirties or actually  hit freezing... the outlook is not good. If it was in the forties... maybe. You are probably going to loose every leaf, but they may pull through. The spider plant looks like it’s toast though.' has dtype incompatible with float64, please explicitly cast to a compatible dtype first.\n",
      "  df_s.loc[df_s.id == l_id, \"comment\"] = most_upvoted_comment\n"
     ]
    }
   ],
   "source": [
    "for l_id, most_upvoted_comment in results:\n",
    "    df_s.loc[df_s.id == l_id, \"comment\"] = most_upvoted_comment"
   ]
  },
  {
   "cell_type": "code",
   "execution_count": 13,
   "id": "178d2780-9432-4a3d-b415-53298e984018",
   "metadata": {},
   "outputs": [],
   "source": [
    "df_s_final = df_s[df_s[\"comment\"].str.len() > 0]"
   ]
  },
  {
   "cell_type": "code",
   "execution_count": 16,
   "id": "1f54623b",
   "metadata": {},
   "outputs": [
    {
     "data": {
      "text/html": [
       "<div>\n",
       "<style scoped>\n",
       "    .dataframe tbody tr th:only-of-type {\n",
       "        vertical-align: middle;\n",
       "    }\n",
       "\n",
       "    .dataframe tbody tr th {\n",
       "        vertical-align: top;\n",
       "    }\n",
       "\n",
       "    .dataframe thead th {\n",
       "        text-align: right;\n",
       "    }\n",
       "</style>\n",
       "<table border=\"1\" class=\"dataframe\">\n",
       "  <thead>\n",
       "    <tr style=\"text-align: right;\">\n",
       "      <th></th>\n",
       "      <th>id</th>\n",
       "      <th>title</th>\n",
       "      <th>comment</th>\n",
       "    </tr>\n",
       "  </thead>\n",
       "  <tbody>\n",
       "    <tr>\n",
       "      <th>229291</th>\n",
       "      <td>t3_o4ltt2</td>\n",
       "      <td>I forgot I was sprouting mango pits but my eldritch horrors - I mean mangos - sprouted. Enthusiastically. Um. Do I stick just the tentacles, er, roots, in the soil, with them being this spouted? Or do I bury the whole thing (in an unmarked grave and never speak of this incident again)?</td>\n",
       "      <td>I did this before and um... they looked almost that bad. I would stick them in some dirt, they'll eventually figure out they're plants.</td>\n",
       "    </tr>\n",
       "    <tr>\n",
       "      <th>110370</th>\n",
       "      <td>t3_i6jspj</td>\n",
       "      <td>Plant Theives! :( We've now had 4 very sentimental plants stolen off of our patio. Today, my partners prized money tree is gone. Is there a way to make the leaf left behind root and regrow?</td>\n",
       "      <td>upvoted for visibility :(</td>\n",
       "    </tr>\n",
       "    <tr>\n",
       "      <th>...</th>\n",
       "      <td>...</td>\n",
       "      <td>...</td>\n",
       "      <td>...</td>\n",
       "    </tr>\n",
       "    <tr>\n",
       "      <th>330777</th>\n",
       "      <td>t3_vdtubd</td>\n",
       "      <td>Two days ago I noticed these black spots on a few of my Graptosedum's leaves. This is a new plant that was repotted a week ago. The roots looked good and there are no spots on the stem. I tried wiping it off, but it doesn't come off. Any ideas as to what this could be?</td>\n",
       "      <td>I had a cactus do this. I think it’s rotting from the inside out, likely over watering. Check this link and see if it matches. \\n\\nhttps://www.sublimesucculents.com/root-rot-succulents/</td>\n",
       "    </tr>\n",
       "    <tr>\n",
       "      <th>358036</th>\n",
       "      <td>t3_xm7zb2</td>\n",
       "      <td>Following up after checking roots! From what I see, they’re not rotten but they’re not…abundant. Should I propagate with the offshoot or can I report in fresh soil and try to save her?</td>\n",
       "      <td>Where is the original post? Is this it: [https://www.reddit.com/r/plantclinic/comments/xgzq5x/constantly\\_brown\\_and\\_yellow\\_ive\\_watered\\_more\\_and/](https://www.reddit.com/r/plantclinic/comments/xgzq5x/constantly_brown_and_yellow_ive_watered_more_and/)?\\n\\nWhile you didn't find any root rot, I see broken off roots lying in the soil to the left. The roots likely completely disintegrated.\\n\\nWhen you repot the plant in this post, use a VERY SMALL unglazed terracotta pot - only large enough for what is left of the roots. They need a fast draining soil, with excellent drainage to thrive. Root rot will take over if planted in too large a pot.\\n\\nIf that is a dracaena, they have very small and compact root systems, even when 100% healthy. This is an example of a healthy root system: [https://www.nature-and-garden.com/wp-content/uploads/2018/11/dracaena-marginata-roots.jpg](https://www.nature-and-garden.com/wp-content/uploads/2018/11/dracaena-marginata-roots.jpg)</td>\n",
       "    </tr>\n",
       "  </tbody>\n",
       "</table>\n",
       "<p>8864 rows × 3 columns</p>\n",
       "</div>"
      ],
      "text/plain": [
       "               id  \\\n",
       "229291  t3_o4ltt2   \n",
       "110370  t3_i6jspj   \n",
       "...           ...   \n",
       "330777  t3_vdtubd   \n",
       "358036  t3_xm7zb2   \n",
       "\n",
       "                                                                                                                                                                                                                                                                                                 title  \\\n",
       "229291  I forgot I was sprouting mango pits but my eldritch horrors - I mean mangos - sprouted. Enthusiastically. Um. Do I stick just the tentacles, er, roots, in the soil, with them being this spouted? Or do I bury the whole thing (in an unmarked grave and never speak of this incident again)?   \n",
       "110370                                                                                                   Plant Theives! :( We've now had 4 very sentimental plants stolen off of our patio. Today, my partners prized money tree is gone. Is there a way to make the leaf left behind root and regrow?   \n",
       "...                                                                                                                                                                                                                                                                                                ...   \n",
       "330777                   Two days ago I noticed these black spots on a few of my Graptosedum's leaves. This is a new plant that was repotted a week ago. The roots looked good and there are no spots on the stem. I tried wiping it off, but it doesn't come off. Any ideas as to what this could be?   \n",
       "358036                                                                                                        Following up after checking roots! From what I see, they’re not rotten but they’re not…abundant. Should I propagate with the offshoot or can I report in fresh soil and try to save her?   \n",
       "\n",
       "                                                                                                                                                                                                                                                                                                                                                                                                                                                                                                                                                                                                                                                                                                                                                                                                                                                                                                                                                                                                              comment  \n",
       "229291                                                                                                                                                                                                                                                                                                                                                                                                                                                                                                                                                                                                                                                                                                                                                                                                                                                                        I did this before and um... they looked almost that bad. I would stick them in some dirt, they'll eventually figure out they're plants.  \n",
       "110370                                                                                                                                                                                                                                                                                                                                                                                                                                                                                                                                                                                                                                                                                                                                                                                                                                                                                                                                                                                      upvoted for visibility :(  \n",
       "...                                                                                                                                                                                                                                                                                                                                                                                                                                                                                                                                                                                                                                                                                                                                                                                                                                                                                                                                                                                                               ...  \n",
       "330777                                                                                                                                                                                                                                                                                                                                                                                                                                                                                                                                                                                                                                                                                                                                                                                                                      I had a cactus do this. I think it’s rotting from the inside out, likely over watering. Check this link and see if it matches. \\n\\nhttps://www.sublimesucculents.com/root-rot-succulents/  \n",
       "358036  Where is the original post? Is this it: [https://www.reddit.com/r/plantclinic/comments/xgzq5x/constantly\\_brown\\_and\\_yellow\\_ive\\_watered\\_more\\_and/](https://www.reddit.com/r/plantclinic/comments/xgzq5x/constantly_brown_and_yellow_ive_watered_more_and/)?\\n\\nWhile you didn't find any root rot, I see broken off roots lying in the soil to the left. The roots likely completely disintegrated.\\n\\nWhen you repot the plant in this post, use a VERY SMALL unglazed terracotta pot - only large enough for what is left of the roots. They need a fast draining soil, with excellent drainage to thrive. Root rot will take over if planted in too large a pot.\\n\\nIf that is a dracaena, they have very small and compact root systems, even when 100% healthy. This is an example of a healthy root system: [https://www.nature-and-garden.com/wp-content/uploads/2018/11/dracaena-marginata-roots.jpg](https://www.nature-and-garden.com/wp-content/uploads/2018/11/dracaena-marginata-roots.jpg)  \n",
       "\n",
       "[8864 rows x 3 columns]"
      ]
     },
     "execution_count": 16,
     "metadata": {},
     "output_type": "execute_result"
    }
   ],
   "source": [
    "df_s_final"
   ]
  },
  {
   "cell_type": "code",
   "execution_count": null,
   "id": "97b5f136-c9b2-49a7-b949-a6013c594a08",
   "metadata": {},
   "outputs": [],
   "source": [
    "df_s_final.to_csv(\"PlantQA_dataset_8864.csv\")"
   ]
  }
 ],
 "metadata": {
  "kernelspec": {
   "display_name": "Python 3 (ipykernel)",
   "language": "python",
   "name": "python3"
  },
  "language_info": {
   "codemirror_mode": {
    "name": "ipython",
    "version": 3
   },
   "file_extension": ".py",
   "mimetype": "text/x-python",
   "name": "python",
   "nbconvert_exporter": "python",
   "pygments_lexer": "ipython3",
   "version": "3.9.18"
  }
 },
 "nbformat": 4,
 "nbformat_minor": 5
}
